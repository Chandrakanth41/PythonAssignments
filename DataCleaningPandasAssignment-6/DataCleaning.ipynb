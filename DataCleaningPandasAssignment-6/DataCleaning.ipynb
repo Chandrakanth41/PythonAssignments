{
  "nbformat": 4,
  "nbformat_minor": 0,
  "metadata": {
    "colab": {
      "name": "DataCleaning.ipynb",
      "private_outputs": true,
      "provenance": []
    },
    "kernelspec": {
      "name": "python3",
      "display_name": "Python 3"
    },
    "language_info": {
      "name": "python"
    }
  },
  "cells": [
    {
      "cell_type": "markdown",
      "source": [
        "It happens all the time: someone gives you data containing malformed strings,\n",
        "Python, lists and missing data. How do you tidy it up so you can get on with the\n",
        "analysis?"
      ],
      "metadata": {
        "id": "m2noUmwWfa8Q"
      }
    },
    {
      "cell_type": "code",
      "source": [
        "import pandas as pd\n",
        "import numpy as np\n",
        "df = pd.DataFrame({'From_To': ['LoNDon_paris', 'MAdrid_miLAN', 'londON_StockhOlm','Budapest_PaRis', 'Brussels_londOn'],\n",
        "                   'FlightNumber': [10045, np.nan, 10065, np.nan, 10085],\n",
        "                   'RecentDelays': [[23, 47], [], [24, 43, 87], [13], [67, 32]],\n",
        "                   'Airline': ['KLM(!)', '<Air France> (12)', '(British Airways. )','12. Air France', '\"Swiss Air\"']})\n",
        "\n",
        "df_Analysis= df\n",
        "\n",
        "print(\"Dataset\")\n",
        "df_Analysis"
      ],
      "metadata": {
        "id": "HpKa_gxOfgJu"
      },
      "execution_count": null,
      "outputs": []
    },
    {
      "cell_type": "markdown",
      "source": [
        "1 . Some values in the the FlightNumber column are missing. These numbers are meant to increase by 10 with each row so 10055 and 10075 need to be put in place. Fill in these missing numbers and make the column an integer column (instead of a float column)."
      ],
      "metadata": {
        "id": "gyQShYR3f-Up"
      }
    },
    {
      "cell_type": "code",
      "source": [
        "x,y = df_Analysis.FlightNumber.loc[[0]].values[0]+10, df_Analysis.FlightNumber.loc[[4]].values[0]-10\n",
        "\n",
        "df_Analysis.FlightNumber.loc[[1]]=df_Analysis.FlightNumber.loc[[1]].fillna(x)\n",
        "\n",
        "df_Analysis.FlightNumber.loc[[3]]=df_Analysis.FlightNumber.loc[[3]].fillna(y)\n",
        "\n",
        "# convert flot type to int type\n",
        "df_Analysis.FlightNumber = df_Analysis.FlightNumber.astype(int)\n",
        "\n",
        "print(\"Output\")\n",
        "df_Analysis"
      ],
      "metadata": {
        "id": "qe7tEO3ggAEX"
      },
      "execution_count": null,
      "outputs": []
    },
    {
      "cell_type": "markdown",
      "source": [
        "2 . The FromTo column would be better as two separate columns! Split each string on the underscore delimiter to give a new temporary DataFrame with the correct values. Assign the correct column names to this temporary DataFrame."
      ],
      "metadata": {
        "id": "rqx5XWJPjWDF"
      }
    },
    {
      "cell_type": "code",
      "source": [
        "df_temp= df_Analysis.From_To.str.split('_', expand=True)\n",
        "df_temp.columns = ['From', 'To']\n",
        "print(\"Output\")\n",
        "df_temp"
      ],
      "metadata": {
        "id": "RbbIt2yLjXaP"
      },
      "execution_count": null,
      "outputs": []
    },
    {
      "cell_type": "markdown",
      "source": [
        "3 . Notice how the capitalisation of the city names is all mixed up in this temporary DataFrame. Standardise the strings so that only the first letter is uppercase (e.g. \"londON\" should become \"London\".)"
      ],
      "metadata": {
        "id": "qAhzohQFjlOY"
      }
    },
    {
      "cell_type": "code",
      "source": [
        "\n",
        "\n",
        "df_temp.From = df_temp.From.str.title()\n",
        "df_temp.To = df_temp.To.str.title()\n",
        "print(\"Output\")\n",
        "df_temp"
      ],
      "metadata": {
        "id": "5XIGgHJ_jmfJ"
      },
      "execution_count": null,
      "outputs": []
    },
    {
      "cell_type": "markdown",
      "source": [
        "4 . Delete the From_To column from df and attach the temporary DataFrame from the previous questions."
      ],
      "metadata": {
        "id": "2KIZqngRj8SY"
      }
    },
    {
      "cell_type": "code",
      "source": [
        "\n",
        "df_Analysis"
      ],
      "metadata": {
        "id": "aSxpTJu0j9Mh"
      },
      "execution_count": null,
      "outputs": []
    },
    {
      "cell_type": "markdown",
      "source": [
        "5 . In the RecentDelays column, the values have been entered into the DataFrame as a list. We would like each first value in its own column, each second value in its own column, and so on. If there isn't an Nth value, the value should be NaN."
      ],
      "metadata": {
        "id": "JnMzykrlkLyS"
      }
    },
    {
      "cell_type": "code",
      "source": [
        "df_delays=pd.DataFrame(df_Analysis[\"RecentDelays\"].values.tolist())\n",
        "df_delays.columns = ['delay_{}'.format(n) for n in range(1, len(df_delays.columns)+1)]\n",
        "df_delays\n",
        "df_Analysis=df_Analysis.drop(\"RecentDelays\" , axis=1).join(df_delays)\n",
        "print(\"Output\")\n",
        "df_Analysis"
      ],
      "metadata": {
        "id": "dBD1GFBikMkq"
      },
      "execution_count": null,
      "outputs": []
    }
  ]
}